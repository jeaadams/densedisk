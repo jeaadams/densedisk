{
 "cells": [
  {
   "cell_type": "code",
   "execution_count": 2,
   "id": "759cfb35",
   "metadata": {},
   "outputs": [],
   "source": [
    "from densedisk.temperature import TemperatureProfile\n",
    "\n",
    "from astropy import units\n",
    "import numpy as np"
   ]
  },
  {
   "cell_type": "code",
   "execution_count": null,
   "id": "83d788f6",
   "metadata": {},
   "outputs": [],
   "source": [
    "temperature_profile = TemperatureProfile(\n",
    "    r_profile = (np.linspace(0, 600, 2000) * units.AU).cgs,\n",
    "    z_profile = (np.linspace(0, 100, 5000) * units.AU).cgs,\n",
    "    q=0.5,\n",
    "    r0=(10 * units.AU).cgs,\n",
    "    T0=40 * units.K,\n",
    "    M_star=(1.0 * units.M_sun).cgs,\n",
    "    Sigma_0=189 * units.g / units.cm**2,\n",
    ")\n",
    "extracted_velocity = temperature_profile.extract_velocity_from_surface(\n",
    "    vphi_real=np.load('/Users/jea/HD163296/velocity_tests/velocity_curve_CO_iters5_fitmethodSHO.npz'),\n",
    "    delta_vphi_real=np.load('/Users/jea/HD163296/velocity_tests/velocity_profile_residual_CO.npz'),\n",
    "    surf_12co=np.load('/Users/jea/HD163296/surf_data/HD163296_CO.robust_0.5.npz')\n",
    ")\n",
    "print(extracted_velocity.vphi_real_r)\n",
    "print(extracted_velocity.delta_vphi_real_r)\n",
    "print(extracted_velocity.vphi_real_v)\n",
    "print(extracted_velocity.delta_vphi_real_v)\n",
    "print(extracted_velocity.vphi_co)\n",
    "print(extracted_velocity.delta_vphi_co)"
   ]
  }
 ],
 "metadata": {
  "kernelspec": {
   "display_name": "base",
   "language": "python",
   "name": "python3"
  },
  "language_info": {
   "codemirror_mode": {
    "name": "ipython",
    "version": 3
   },
   "file_extension": ".py",
   "mimetype": "text/x-python",
   "name": "python",
   "nbconvert_exporter": "python",
   "pygments_lexer": "ipython3",
   "version": "3.11.4"
  }
 },
 "nbformat": 4,
 "nbformat_minor": 5
}
